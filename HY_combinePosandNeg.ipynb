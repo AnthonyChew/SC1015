{
 "cells": [
  {
   "cell_type": "code",
   "execution_count": 1,
   "id": "3ad36a61",
   "metadata": {},
   "outputs": [],
   "source": [
    "import numpy as np\n",
    "import pandas as pd"
   ]
  },
  {
   "cell_type": "code",
   "execution_count": 3,
   "id": "4bf83e65",
   "metadata": {},
   "outputs": [
    {
     "name": "stdout",
     "output_type": "stream",
     "text": [
      "       positive  negative\n",
      "0             5         2\n",
      "1             5         0\n",
      "2            11         1\n",
      "3            13         1\n",
      "4             7         3\n",
      "...         ...       ...\n",
      "41303      1283        33\n",
      "41304      2004       463\n",
      "41305      4390       522\n",
      "41306     49486      2117\n",
      "41307         3         5\n",
      "\n",
      "[41308 rows x 2 columns]\n"
     ]
    }
   ],
   "source": [
    "data = pd.read_csv('GameData_cleaned.csv')\n",
    "print(data[['positive', 'negative']])\n",
    "\n",
    "# for i in data:\n",
    "#     data['rating'] = data['positive'] / data['positive'] + data['negative']"
   ]
  },
  {
   "cell_type": "code",
   "execution_count": 11,
   "id": "6495ceb7",
   "metadata": {},
   "outputs": [
    {
     "name": "stdout",
     "output_type": "stream",
     "text": [
      "positive\n",
      "negative\n"
     ]
    }
   ],
   "source": [
    "pos, neg, total = 0, 0, 0\n",
    "for i in data['positive']:\n",
    "    if i == 0:\n",
    "        pos += 1\n",
    "        \n",
    "for j in data['negative']:\n",
    "    if j == 0:\n",
    "        neg += 1\n",
    "        \n",
    "\n",
    "# print(f\"Positive: {pos}, Negative: {neg}, total = \")"
   ]
  },
  {
   "cell_type": "code",
   "execution_count": null,
   "id": "f097084d",
   "metadata": {},
   "outputs": [],
   "source": []
  },
  {
   "cell_type": "code",
   "execution_count": null,
   "id": "231f4d49",
   "metadata": {},
   "outputs": [],
   "source": []
  },
  {
   "cell_type": "code",
   "execution_count": null,
   "id": "e29ba7ff",
   "metadata": {},
   "outputs": [],
   "source": []
  },
  {
   "cell_type": "code",
   "execution_count": null,
   "id": "fa70cf67",
   "metadata": {},
   "outputs": [],
   "source": []
  },
  {
   "cell_type": "code",
   "execution_count": null,
   "id": "741edf4b",
   "metadata": {},
   "outputs": [],
   "source": []
  },
  {
   "cell_type": "code",
   "execution_count": null,
   "id": "6753effd",
   "metadata": {},
   "outputs": [],
   "source": []
  },
  {
   "cell_type": "code",
   "execution_count": null,
   "id": "cfba575b",
   "metadata": {},
   "outputs": [],
   "source": []
  },
  {
   "cell_type": "code",
   "execution_count": null,
   "id": "d771cb5b",
   "metadata": {},
   "outputs": [],
   "source": []
  },
  {
   "cell_type": "code",
   "execution_count": null,
   "id": "2069e554",
   "metadata": {},
   "outputs": [],
   "source": []
  },
  {
   "cell_type": "code",
   "execution_count": null,
   "id": "bd0f497c",
   "metadata": {},
   "outputs": [],
   "source": []
  },
  {
   "cell_type": "code",
   "execution_count": null,
   "id": "a1f71720",
   "metadata": {},
   "outputs": [],
   "source": []
  },
  {
   "cell_type": "code",
   "execution_count": null,
   "id": "b1f0d30e",
   "metadata": {},
   "outputs": [],
   "source": []
  },
  {
   "cell_type": "code",
   "execution_count": null,
   "id": "aba0d9c0",
   "metadata": {},
   "outputs": [],
   "source": []
  }
 ],
 "metadata": {
  "kernelspec": {
   "display_name": "Python 3 (ipykernel)",
   "language": "python",
   "name": "python3"
  },
  "language_info": {
   "codemirror_mode": {
    "name": "ipython",
    "version": 3
   },
   "file_extension": ".py",
   "mimetype": "text/x-python",
   "name": "python",
   "nbconvert_exporter": "python",
   "pygments_lexer": "ipython3",
   "version": "3.9.7"
  }
 },
 "nbformat": 4,
 "nbformat_minor": 5
}
