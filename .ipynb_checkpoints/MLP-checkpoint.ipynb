{
 "cells": [
  {
   "cell_type": "code",
   "execution_count": 1,
   "metadata": {},
   "outputs": [],
   "source": [
    "import pandas as pd\n",
    "import numpy as np\n",
    "import seaborn as sb\n",
    "import matplotlib.pyplot as plt\n",
    "\n",
    "from sklearn.model_selection import train_test_split\n",
    "\n",
    "from sklearn.neural_network import MLPRegressor\n",
    "from sklearn.model_selection import train_test_split\n",
    "from sklearn.datasets import fetch_california_housing\n",
    "from sklearn.preprocessing import StandardScaler\n",
    "from sklearn.metrics import r2_score\n",
    "\n",
    "# Import MLPClassifer \n",
    "from sklearn.neural_network import MLPClassifier"
   ]
  },
  {
   "cell_type": "markdown",
   "metadata": {},
   "source": [
    "# Import data"
   ]
  },
  {
   "cell_type": "code",
   "execution_count": 2,
   "metadata": {},
   "outputs": [],
   "source": [
    "data = pd.read_csv('GameData_backup_with_review.csv' ,low_memory=0, header=0 , keep_default_na=False , encoding='ANSI')\n",
    "\n",
    "# Import LabelEncoder\n",
    "from sklearn import preprocessing\n",
    "\n",
    "# Spliting data into Feature and\n",
    "#,'18+','Casual' , 'Indie', 'Free To Play', 'RPG' , 'Strategy' ,'Sports', 'Simulation'  , 'Racing','Massivley Multiplayer' ,'Act_Adv'\n",
    "X=data[['positive', 'price', 'total_lang','18+','Casual' , 'Indie', 'Free to Play', 'RPG' , 'Strategy' ,'Sports', 'Simulation'  , 'Racing','Massively Multiplayer' ,'Act_Adv']]\n",
    "y=data['owner_cat']"
   ]
  },
  {
   "cell_type": "markdown",
   "metadata": {},
   "source": [
    "# Split data to 7:3"
   ]
  },
  {
   "cell_type": "code",
   "execution_count": 3,
   "metadata": {
    "scrolled": true
   },
   "outputs": [
    {
     "name": "stdout",
     "output_type": "stream",
     "text": [
      "X Train (28892, 14)\n",
      "X Test (12383, 14)\n",
      "Y Train (28892,)\n",
      "Y Test (12383,)\n"
     ]
    }
   ],
   "source": [
    "# Split dataset into training set and test set\n",
    "X_train, X_test, y_train, y_test = train_test_split(X, y, test_size=0.3, random_state=42)  # 70% training and 30% test\n",
    "\n",
    "\n",
    "print('X Train', X_train.shape)\n",
    "print('X Test', X_test.shape)\n",
    "\n",
    "print('Y Train', y_train.shape)\n",
    "print('Y Test', y_test.shape)"
   ]
  },
  {
   "cell_type": "markdown",
   "metadata": {},
   "source": [
    "# MLP "
   ]
  },
  {
   "cell_type": "markdown",
   "metadata": {},
   "source": [
    "# Init Model"
   ]
  },
  {
   "cell_type": "code",
   "execution_count": 62,
   "metadata": {},
   "outputs": [
    {
     "name": "stdout",
     "output_type": "stream",
     "text": [
      "Iteration 1, loss = inf\n",
      "Iteration 2, loss = inf\n",
      "Iteration 3, loss = inf\n",
      "Iteration 4, loss = 0.82118842\n",
      "Iteration 5, loss = 0.80391664\n",
      "Iteration 6, loss = 0.79140916\n",
      "Iteration 7, loss = 0.78007612\n",
      "Iteration 8, loss = 0.77095997\n",
      "Iteration 9, loss = 0.76290362\n",
      "Iteration 10, loss = 0.75552356\n",
      "Iteration 11, loss = 0.75036813\n",
      "Iteration 12, loss = 0.74671805\n",
      "Iteration 13, loss = 0.74302531\n",
      "Iteration 14, loss = 0.73850427\n",
      "Iteration 15, loss = 0.73613341\n",
      "Iteration 16, loss = 0.73644585\n",
      "Iteration 17, loss = 0.73743184\n",
      "Iteration 18, loss = 0.72849246\n",
      "Iteration 19, loss = 0.72760394\n",
      "Iteration 20, loss = 0.72574928\n",
      "Iteration 21, loss = 0.73160470\n",
      "Iteration 22, loss = 0.72442335\n",
      "Iteration 23, loss = 0.72283786\n",
      "Iteration 24, loss = 0.72307561\n",
      "Iteration 25, loss = 0.72084195\n",
      "Iteration 26, loss = 0.71847868\n",
      "Iteration 27, loss = 0.71682883\n",
      "Iteration 28, loss = 0.73957215\n",
      "Iteration 29, loss = 0.71617638\n",
      "Iteration 30, loss = 0.71456687\n",
      "Iteration 31, loss = 0.76940852\n",
      "Iteration 32, loss = 0.72441309\n",
      "Iteration 33, loss = 0.71099553\n",
      "Iteration 34, loss = 0.70991725\n",
      "Iteration 35, loss = 0.72405749\n",
      "Iteration 36, loss = 0.71048892\n",
      "Iteration 37, loss = 0.71483188\n",
      "Iteration 38, loss = 0.70664130\n",
      "Iteration 39, loss = 0.72271090\n",
      "Iteration 40, loss = 0.71209686\n",
      "Iteration 41, loss = 0.71524508\n",
      "Iteration 42, loss = 0.72962238\n",
      "Iteration 43, loss = 0.71053850\n",
      "Iteration 44, loss = 0.70523038\n",
      "Iteration 45, loss = 0.71312578\n",
      "Iteration 46, loss = 0.70694893\n",
      "Iteration 47, loss = 0.71440263\n",
      "Iteration 48, loss = 0.70910989\n",
      "Iteration 49, loss = 0.70710395\n",
      "Iteration 50, loss = 0.70556985\n",
      "Iteration 51, loss = 0.74415840\n",
      "Iteration 52, loss = 0.70315137\n",
      "Iteration 53, loss = 0.70532223\n",
      "Iteration 54, loss = 0.70640498\n",
      "Iteration 55, loss = 0.70765554\n",
      "Iteration 56, loss = 0.69974185\n",
      "Iteration 57, loss = 0.71448441\n",
      "Iteration 58, loss = 0.70293980\n",
      "Iteration 59, loss = 0.71061629\n",
      "Iteration 60, loss = 0.70210154\n",
      "Iteration 61, loss = 0.70769910\n",
      "Iteration 62, loss = 0.70845343\n",
      "Iteration 63, loss = 0.70338788\n",
      "Iteration 64, loss = 0.69884421\n",
      "Iteration 65, loss = 0.70131389\n",
      "Iteration 66, loss = 0.70561540\n",
      "Iteration 67, loss = 0.70696909\n",
      "Iteration 68, loss = 0.76630487\n",
      "Iteration 69, loss = 0.75599007\n",
      "Iteration 70, loss = 0.73015683\n",
      "Iteration 71, loss = 0.72201340\n",
      "Iteration 72, loss = 0.71875062\n",
      "Iteration 73, loss = 0.71671156\n",
      "Iteration 74, loss = 0.71630135\n",
      "Iteration 75, loss = 0.71469689\n",
      "Training loss did not improve more than tol=0.000100 for 10 consecutive epochs. Stopping.\n"
     ]
    }
   ],
   "source": [
    "# Create model object\n",
    "clf = MLPClassifier(hidden_layer_sizes=(6),\n",
    "                    random_state=3,\n",
    "                    learning_rate_init=0.01,\n",
    "                    alpha= 0.00001,\n",
    "                    verbose=True,\n",
    "                    solver=\"adam\",\n",
    "                    activation='relu')\n",
    "\n",
    "# Fit data onto the model\n",
    "clf.fit(X_train,y_train)\n",
    "\n",
    "# Make prediction on test dataset\n",
    "ypred=clf.predict(X_test)\n",
    "\n"
   ]
  },
  {
   "cell_type": "code",
   "execution_count": 63,
   "metadata": {},
   "outputs": [
    {
     "data": {
      "text/plain": [
       "0.7370588710328676"
      ]
     },
     "execution_count": 63,
     "metadata": {},
     "output_type": "execute_result"
    }
   ],
   "source": [
    "# Make prediction on test dataset\n",
    "ypred=clf.predict(X_test)\n",
    "\n",
    "# Import accuracy score \n",
    "from sklearn.metrics import accuracy_score\n",
    "\n",
    "# Calcuate accuracy\n",
    "accuracy_score(y_test,ypred)"
   ]
  },
  {
   "cell_type": "code",
   "execution_count": null,
   "metadata": {},
   "outputs": [],
   "source": [
    "print(metrics.classification_report(y, predicted_y))\n",
    "print(metrics.confusion_matrix(expected_y, predicted_y))"
   ]
  }
 ],
 "metadata": {
  "kernelspec": {
   "display_name": "Python 3",
   "language": "python",
   "name": "python3"
  },
  "language_info": {
   "codemirror_mode": {
    "name": "ipython",
    "version": 3
   },
   "file_extension": ".py",
   "mimetype": "text/x-python",
   "name": "python",
   "nbconvert_exporter": "python",
   "pygments_lexer": "ipython3",
   "version": "3.7.6"
  }
 },
 "nbformat": 4,
 "nbformat_minor": 5
}
