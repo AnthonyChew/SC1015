{
 "cells": [
  {
   "cell_type": "code",
   "execution_count": 1,
   "id": "efea8aa9",
   "metadata": {},
   "outputs": [],
   "source": [
    "import numpy as np\n",
    "import pandas as pd\n",
    "import seaborn as sb\n",
    "import matplotlib.pyplot as plt # we only need pyplot\n",
    "sb.set() # set the default Seaborn style for graphics\n",
    "\n",
    "from sklearn.tree import DecisionTreeClassifier\n",
    "from sklearn.tree import plot_tree\n",
    "from sklearn.metrics import confusion_matrix\n",
    "from sklearn.tree import DecisionTreeClassifier\n",
    "from sklearn.model_selection import train_test_split\n",
    "\n",
    "dectree = DecisionTreeClassifier(max_depth = 2)"
   ]
  },
  {
   "cell_type": "code",
   "execution_count": 2,
   "id": "7930bd12",
   "metadata": {},
   "outputs": [
    {
     "name": "stdout",
     "output_type": "stream",
     "text": [
      "       Unnamed: 0    appid                                      name  \\\n",
      "0               0   451450                   Hollywood Hills Mansion   \n",
      "1               1   773620           Redemption: Tyranny of Daetorem   \n",
      "2               2    37290                                  Zenerchi   \n",
      "3               3   377340                      ChessBase 13 Academy   \n",
      "4               4    40200                                 ItzaBitza   \n",
      "...           ...      ...                                       ...   \n",
      "41307       42297   791380                                   Way Out   \n",
      "41308       42298  1292550                                  Lockdown   \n",
      "41309       42299   817820                                 The Quiet   \n",
      "41310       42300   400110                        Else Heart.Break()   \n",
      "41311       42301  1176040  I Have Low Stats But My Class Is Leader\"   \n",
      "\n",
      "                                               developer  \\\n",
      "0                                  LOOT Interactive, LLC   \n",
      "1                                                    NaN   \n",
      "2                                       Red Rocket Games   \n",
      "3                                              Chessbase   \n",
      "4                                             Sabi Games   \n",
      "...                                                  ...   \n",
      "41307               Shenzhen Simeng Technology Co., Ltd.   \n",
      "41308                                 Tony M00fins\" Capp   \n",
      "41309                               Please!\" Collection\"   \n",
      "41310  Erik Svedäng, El Huervo / Niklas Åkerblad, Tob...   \n",
      "41311   So I Recruited Everyone I Know To Fight The D...   \n",
      "\n",
      "                                  publisher            score_rank  positive  \\\n",
      "0                     LOOT Interactive, LLC                   NaN         5   \n",
      "1                            Big Fish Games                   NaN         5   \n",
      "2                                 PlayFirst                   NaN        11   \n",
      "3                                Viva Media                   NaN        13   \n",
      "4                                Sabi Games                   NaN         7   \n",
      "...                                     ...                   ...       ...   \n",
      "41307  Shenzhen Simeng Technology Co., Ltd.                   NaN         3   \n",
      "41308                    Chris \"Saget\" Mac\"       Chriton Studios         0   \n",
      "41309                     Nostatic Software     Nostatic Software         0   \n",
      "41310                      Johannes Gotlén\"       Erik Svedäng AB         0   \n",
      "41311                  Cannibal Interactive  Cannibal Interactive         0   \n",
      "\n",
      "       negative  userscore  owners  ...  Casual  Indie  Free To Play  RPG  \\\n",
      "0             2          0   20000  ...       0      0             0    0   \n",
      "1             0          0   20000  ...       0      0             0    0   \n",
      "2             1          0   20000  ...       1      0             0    0   \n",
      "3             1          0   20000  ...       0      0             0    0   \n",
      "4             3          0   20000  ...       1      0             0    0   \n",
      "...         ...        ...     ...  ...     ...    ...           ...  ...   \n",
      "41307         5          0  100000  ...       1      1             0    0   \n",
      "41308        19         11       0  ...       0      0             0    0   \n",
      "41309         5          0       0  ...       0      0             0    0   \n",
      "41310       472        230       0  ...       0      0             0    0   \n",
      "41311         6          2       0  ...       0      0             0    0   \n",
      "\n",
      "       Strategy  Sports  Simulation  Racing Massivley Multiplayer Act_Adv  \n",
      "0             0       0           0       0                     0       0  \n",
      "1             0       0           0       0                     0       0  \n",
      "2             0       0           0       0                     0       0  \n",
      "3             0       0           0       0                     0       0  \n",
      "4             0       0           0       0                     0       0  \n",
      "...         ...     ...         ...     ...                   ...     ...  \n",
      "41307         1       0           1       1                     0       1  \n",
      "41308         0       0           0       0                     0       0  \n",
      "41309         0       0           0       0                     0       0  \n",
      "41310         0       0           0       0                     0       0  \n",
      "41311         0       0           0       0                     0       0  \n",
      "\n",
      "[41312 rows x 48 columns]\n"
     ]
    },
    {
     "name": "stderr",
     "output_type": "stream",
     "text": [
      "C:\\Users\\ganha\\anaconda3\\lib\\site-packages\\IPython\\core\\interactiveshell.py:3444: DtypeWarning: Columns (5) have mixed types.Specify dtype option on import or set low_memory=False.\n",
      "  exec(code_obj, self.user_global_ns, self.user_ns)\n"
     ]
    }
   ],
   "source": [
    "file = pd.read_csv(\"GameData_testingHY.csv\")\n",
    "print(file)"
   ]
  },
  {
   "cell_type": "code",
   "execution_count": null,
   "id": "1301815b",
   "metadata": {},
   "outputs": [],
   "source": []
  },
  {
   "cell_type": "code",
   "execution_count": null,
   "id": "0e1eac0a",
   "metadata": {},
   "outputs": [],
   "source": []
  },
  {
   "cell_type": "code",
   "execution_count": null,
   "id": "f153240b",
   "metadata": {},
   "outputs": [],
   "source": []
  },
  {
   "cell_type": "code",
   "execution_count": null,
   "id": "030a179b",
   "metadata": {},
   "outputs": [],
   "source": []
  },
  {
   "cell_type": "code",
   "execution_count": null,
   "id": "bd60f510",
   "metadata": {},
   "outputs": [],
   "source": []
  },
  {
   "cell_type": "code",
   "execution_count": null,
   "id": "603b0ae0",
   "metadata": {},
   "outputs": [],
   "source": []
  },
  {
   "cell_type": "code",
   "execution_count": null,
   "id": "f6c3d470",
   "metadata": {},
   "outputs": [],
   "source": []
  },
  {
   "cell_type": "code",
   "execution_count": null,
   "id": "3c9583ad",
   "metadata": {},
   "outputs": [],
   "source": []
  },
  {
   "cell_type": "code",
   "execution_count": null,
   "id": "13f46e02",
   "metadata": {},
   "outputs": [],
   "source": []
  },
  {
   "cell_type": "code",
   "execution_count": null,
   "id": "bc0e1afb",
   "metadata": {},
   "outputs": [],
   "source": []
  },
  {
   "cell_type": "code",
   "execution_count": null,
   "id": "5368cb1c",
   "metadata": {},
   "outputs": [],
   "source": []
  },
  {
   "cell_type": "code",
   "execution_count": null,
   "id": "ad1207dd",
   "metadata": {},
   "outputs": [],
   "source": []
  },
  {
   "cell_type": "code",
   "execution_count": null,
   "id": "e5e3da7e",
   "metadata": {},
   "outputs": [],
   "source": []
  },
  {
   "cell_type": "code",
   "execution_count": null,
   "id": "322461cc",
   "metadata": {},
   "outputs": [],
   "source": []
  },
  {
   "cell_type": "code",
   "execution_count": null,
   "id": "4dbcf934",
   "metadata": {},
   "outputs": [],
   "source": []
  },
  {
   "cell_type": "code",
   "execution_count": null,
   "id": "d62420b8",
   "metadata": {},
   "outputs": [],
   "source": []
  },
  {
   "cell_type": "code",
   "execution_count": null,
   "id": "363148fd",
   "metadata": {},
   "outputs": [],
   "source": []
  },
  {
   "cell_type": "code",
   "execution_count": null,
   "id": "f9a07e9a",
   "metadata": {},
   "outputs": [],
   "source": []
  }
 ],
 "metadata": {
  "kernelspec": {
   "display_name": "Python 3 (ipykernel)",
   "language": "python",
   "name": "python3"
  },
  "language_info": {
   "codemirror_mode": {
    "name": "ipython",
    "version": 3
   },
   "file_extension": ".py",
   "mimetype": "text/x-python",
   "name": "python",
   "nbconvert_exporter": "python",
   "pygments_lexer": "ipython3",
   "version": "3.9.7"
  }
 },
 "nbformat": 4,
 "nbformat_minor": 5
}
