{
 "cells": [
  {
   "cell_type": "markdown",
   "id": "22f6a479",
   "metadata": {},
   "source": [
    "# SC1015 Mini Project\n",
    "\n",
    "\n",
    "###  || Predicting popular game trends ||\n",
    "\n",
    "\n",
    "*Number of players vs genre of game*"
   ]
  },
  {
   "cell_type": "code",
   "execution_count": null,
   "id": "2ef43fa9",
   "metadata": {},
   "outputs": [],
   "source": [
    "import requests\n",
    "import json\n",
    "#read later\n",
    "#https://www.learndatasci.com/tutorials/ultimate-guide-web-scraping-w-python-requests-and-beautifulsoup/"
   ]
  },
  {
   "cell_type": "code",
   "execution_count": null,
   "id": "7d10ab52",
   "metadata": {},
   "outputs": [],
   "source": [
    "url = f\"https://steamspy.com/api.php?request=appdetails&appid={i}\"\n",
    "headers = {'Content-type':'applications/json'}\n",
    "response = requests.get(url,headers = headers)\n",
    "print(response.status_code) #ping server\n",
    "#api uses json"
   ]
  },
  {
   "cell_type": "code",
   "execution_count": 66,
   "id": "bbd1d881",
   "metadata": {},
   "outputs": [
    {
     "name": "stdout",
     "output_type": "stream",
     "text": [
      "appid : 10\n",
      "name : Counter-Strike\n",
      "score_rank : \n",
      "positive : 193955\n",
      "negative : 4976\n",
      "userscore : 0\n",
      "owners : 10,000,000 .. 20,000,000\n",
      "price : 999\n",
      "initialprice : 999\n",
      "genre : Action\n",
      "tags : {'Action': 5381, 'FPS': 4805, 'Multiplayer': 3365, 'Shooter': 3330, 'Classic': 2760, 'Team-Based': 1847, 'First-Person': 1693, 'Competitive': 1591, 'Tactical': 1327, \"1990's\": 1181, 'e-sports': 1177, 'PvP': 867, 'Old School': 753, 'Military': 624, 'Strategy': 606, 'Survival': 296, 'Score Attack': 284, '1980s': 257, 'Assassin': 222, 'Violent': 64}\n",
      "\n",
      "\n",
      "\n"
     ]
    }
   ],
   "source": [
    "'''\n",
    "Loop abitrarily from 10 to 50 and print out all the decision variables(factors) that we think that will affect popularity\n",
    "\n",
    "What to change: i values,\n",
    "What to add: tags\n",
    "\n",
    "\n",
    "\n",
    "'''\n",
    "#start from 10 as i=0 to i=10 is just steam initializations, not games.\n",
    "i = 10\n",
    "headers = {'Content-type':'applications/json'}\n",
    "\n",
    "while(i<50): \n",
    "    url = f\"https://steamspy.com/api.php?request=appdetails&appid={i}\"\n",
    "    response = requests.get(url,headers = headers)\n",
    "    arr = ['appid',\n",
    "    \"name\",\n",
    "    \"score_rank\",\n",
    "    \"positive\",\n",
    "    \"negative\",\n",
    "    \"userscore\",\n",
    "    \"owners\",\n",
    "    \"price\",\n",
    "    \"initialprice\",\n",
    "    \"genre\",\n",
    "    \"tags\"#10th index, is a dict inside a dict\n",
    "    ]\n",
    "    i += 1\n",
    "    if(response.json()[\"name\"]== None):\n",
    "        continue\n",
    "    \n",
    "    for j in arr:\n",
    "        print(j,\":\",response.json()[j])\n",
    "\n",
    "    print(\"\\n\\n\")\n",
    "\n"
   ]
  }
 ],
 "metadata": {
  "kernelspec": {
   "display_name": "Python 3 (ipykernel)",
   "language": "python",
   "name": "python3"
  },
  "language_info": {
   "codemirror_mode": {
    "name": "ipython",
    "version": 3
   },
   "file_extension": ".py",
   "mimetype": "text/x-python",
   "name": "python",
   "nbconvert_exporter": "python",
   "pygments_lexer": "ipython3",
   "version": "3.9.5"
  }
 },
 "nbformat": 4,
 "nbformat_minor": 5
}
