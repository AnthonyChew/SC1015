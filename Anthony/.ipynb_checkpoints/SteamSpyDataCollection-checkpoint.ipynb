{
 "cells": [
  {
   "cell_type": "code",
   "execution_count": 7,
   "metadata": {},
   "outputs": [],
   "source": [
    "#import lib\n",
    "import requests\n",
    "import json\n",
    "import time\n",
    "import pandas as pd\n",
    "import numpy as np\n",
    "import os"
   ]
  },
  {
   "cell_type": "markdown",
   "metadata": {},
   "source": [
    "# Get all non-NULL App ID "
   ]
  },
  {
   "cell_type": "code",
   "execution_count": 8,
   "metadata": {},
   "outputs": [
    {
     "data": {
      "text/plain": [
       "44"
      ]
     },
     "execution_count": 8,
     "metadata": {},
     "output_type": "execute_result"
    }
   ],
   "source": [
    "import requests\n",
    "from bs4 import BeautifulSoup\n",
    "\n",
    "#array for app id\n",
    "appID = []\n",
    "\n",
    "for year in range(2008,2021):\n",
    "    \n",
    "    # https://steamspy.com/year/2021\n",
    "    URL = f'https://steamspy.com/year/{year}'\n",
    "    page = requests.get(URL)\n",
    "\n",
    "    soup = BeautifulSoup(page.content)\n",
    "    table = soup.find('table')\n",
    "    links = table.findAll('a')\n",
    "    \n",
    "    myStr = f\"Debug M: Year: {year}. Get {str(len(links))} links!\\n\";\n",
    "    os.write(1,myStr.encode())\n",
    "\n",
    "    for link in range(len(links)):\n",
    "        appID.append(links[link].get('href').split('/')[2])\n",
    "\n",
    "    \n",
    "myStr = f\"Debug M: Done! Total links {str(len(appID))} collected!\\n\";\n",
    "os.write(1,myStr.encode())"
   ]
  },
  {
   "cell_type": "markdown",
   "metadata": {},
   "source": [
    "# API Call"
   ]
  },
  {
   "cell_type": "code",
   "execution_count": 37,
   "metadata": {},
   "outputs": [
    {
     "data": {
      "text/plain": [
       "18"
      ]
     },
     "execution_count": 37,
     "metadata": {},
     "output_type": "execute_result"
    }
   ],
   "source": [
    "#open file stream    \n",
    "file = open(\"GameData.txt\", \"a\" , encoding=\"utf-8\")\n",
    "\n",
    "#11610\n",
    "for count in range(19813 , len(appID)):\n",
    "\n",
    "    #URL\n",
    "    url = 'https://steamspy.com/api.php?request=appdetails&appid='+ str(appID[count])\n",
    "    \n",
    "   #Content type\n",
    "    headers = {'Content-type': 'application/json'}\n",
    "\n",
    "    #API GET\n",
    "    response = requests.get(url, headers = headers)\n",
    "\n",
    "    #if response 200\n",
    "    if(response.status_code == 200):\n",
    "        \n",
    "        #Write header after frist request\n",
    "        if(count == 0):\n",
    "             \n",
    "            temStr = \"\" #header string\n",
    "            tempData = \"\" #temp string\n",
    "            \n",
    "            #Loop through all datas in json \n",
    "            for key,val in response.json().items():\n",
    "                #append header string with \",\"\n",
    "                temStr += (key + \",\")\n",
    "                \n",
    "                #if key == owners\n",
    "                if(key == \"owners\"):\n",
    "                    #sub string to get biggest num and remove comma\n",
    "                    tempData += (str(val).split()[2].replace(',', '') + \",\")\n",
    "                elif(type(val) == dict):\n",
    "                    temp = \"\"\n",
    "                    for key,val in val.items():\n",
    "                        temp += (str(val) + \",\")\n",
    "\n",
    "                    tempData = tempData +'\"'+ temp[:-1] + '\",'\n",
    "\n",
    "                elif(key == \"languages\" or key == \"genre\" or key == \"developer\" or key == \"publisher\" or key == \"name\"):\n",
    "\n",
    "\n",
    "                    tempData = tempData + '\"'+ str(val) + '\",'\n",
    "                    \n",
    "                elif(key == \"price\" or key == \"initialprice\"):\n",
    "\n",
    "                    if(val != '0'):\n",
    "                        tempData = tempData + str(str(val)[:-2] + \".\"+str(val)[2:]) + ','\n",
    "                    else:\n",
    "                        tempData = tempData + str(val) + ','\n",
    "\n",
    "                else:\n",
    "                    tempData += (str(val) + \",\")\n",
    "\n",
    "            #write header and data\n",
    "            file.write( temStr[:-1] + '\\n' + tempData[:-1] + '\\n')\n",
    "            \n",
    "        else:\n",
    "            #temp string\n",
    "            tempData = \"\"\n",
    "            \n",
    "            for key,val in response.json().items():\n",
    "                \n",
    "                if(key == \"name\" and val == None): \n",
    "                    tempData = \"\" \n",
    "                    break\n",
    "                \n",
    "                if(key == \"owners\"):\n",
    "                    tempData += (str(val).split()[2].replace(',', '') + \",\")\n",
    "                elif(type(val) == dict):\n",
    "                    temp = \"\"\n",
    "                    for key,val in val.items():\n",
    "                        temp += (str(val) + \",\")\n",
    "\n",
    "                    tempData = tempData +'\"'+ temp[:-1] + '\",'\n",
    "\n",
    "                elif(key == \"languages\" or key == \"genre\" or key == \"developer\" or key == \"publisher\" or key == \"name\"):\n",
    "\n",
    "\n",
    "                    tempData = tempData + '\"'+ str(val) + '\",'\n",
    "                elif(key == \"price\" or key == \"initialprice\"):\n",
    "\n",
    "                    if(val != '0'):\n",
    "                        tempData = tempData + str(str(val)[:-2] + \".\"+str(val)[2:]) + ','\n",
    "                    else:\n",
    "                        tempData = tempData + str(val) + ','\n",
    "                else:\n",
    "                    tempData += (str(val) + \",\")\n",
    "            \n",
    "            \n",
    "            #write header and data\n",
    "            if(str(tempData).strip() !=\"\" ):\n",
    "                file.write(tempData[:-1] + '\\n' )\n",
    "                myStr = \"Debug M: Writing Data \"+ str(count) +\" to file\\n\";\n",
    "                os.write(1,myStr.encode())\n",
    "            \n",
    "            myStr = \"Debug M: Current count \"+ str(count) +\"\\n\";\n",
    "            os.write(1,myStr.encode())\n",
    "    \n",
    "\n",
    "file.close()\n",
    "\n",
    "os.write(1,b\"File stream closed!\\n\")\n",
    "os.write(1,b\"Collection Done !\\n\")"
   ]
  },
  {
   "cell_type": "code",
   "execution_count": 35,
   "metadata": {},
   "outputs": [],
   "source": [
    "file.close()"
   ]
  },
  {
   "cell_type": "markdown",
   "metadata": {},
   "source": [
    "# Testing "
   ]
  },
  {
   "cell_type": "code",
   "execution_count": 27,
   "metadata": {},
   "outputs": [
    {
     "name": "stdout",
     "output_type": "stream",
     "text": [
      "418070,\"Turbo Pug\",\"Space Cat Studios, SnowFlame, Back To Basics Gaming\",\"Back To Basics Gaming\",,3053,305,0,1000000,218,0,205,0,1.9,1.9,0,4,\"English\",\"Casual, Indie\",\"392,77,70,57,54,45,38,30,12,11,8,5,5,5\"\n"
     ]
    }
   ],
   "source": [
    "#URL\n",
    "url = 'https://steamspy.com/api.php?request=appdetails&appid=418070'\n",
    "\n",
    "#Content type\n",
    "headers = {'Content-type': 'application/json'}\n",
    "\n",
    "#API GET\n",
    "response = requests.get(url, headers = headers)\n",
    "\n",
    "#temp string\n",
    "tempData = \"\"\n",
    "\n",
    "#if response 200\n",
    "if(response.status_code == 200):\n",
    "\n",
    "\n",
    "    temStr = \"\" #header string\n",
    "    tempData = \"\" #temp string\n",
    "\n",
    "    for key,val in response.json().items():\n",
    "\n",
    "        if(key == \"name\" and val == None): \n",
    "            tempData = \"\" \n",
    "            break\n",
    "\n",
    "        if(key == \"owners\"):\n",
    "            tempData += (str(val).split()[2].replace(',', '') + \",\")\n",
    "\n",
    "        elif(type(val) == dict):\n",
    "\n",
    "            temp = \"\"\n",
    "            for key,val in val.items():\n",
    "                temp += (str(val) + \",\")\n",
    "\n",
    "            tempData = tempData +'\"'+ temp[:-1] + '\",'\n",
    "\n",
    "        elif(key == \"languages\" or key == \"genre\" or key == \"developer\" or key == \"publisher\" or key == \"name\"):\n",
    "\n",
    "            tempData = tempData + '\"'+ str(val) + '\",'\n",
    "\n",
    "        elif(key == \"price\" or key == \"initialprice\"):\n",
    "\n",
    "            if(val != '0'):\n",
    "                tempData = tempData + str(str(val)[:-2] + \".\"+str(val)[2:]) + ','\n",
    "            else:\n",
    "                tempData = tempData + str(val) + ','\n",
    "        else:\n",
    "            tempData += (str(val) + \",\")\n",
    "\n",
    "\n",
    "print(tempData[:-1])"
   ]
  },
  {
   "cell_type": "code",
   "execution_count": 39,
   "metadata": {},
   "outputs": [
    {
     "name": "stdout",
     "output_type": "stream",
     "text": [
      "42309\n"
     ]
    }
   ],
   "source": [
    "print(len(appID))"
   ]
  },
  {
   "cell_type": "code",
   "execution_count": null,
   "metadata": {},
   "outputs": [],
   "source": [
    "import requests\n",
    "from bs4 import BeautifulSoup\n",
    "\n",
    "# https://steamspy.com/year/2021\n",
    "URL = 'https://steamspy.com/year/2021'\n",
    "page = requests.get(URL)\n",
    "\n",
    "soup = BeautifulSoup(page.content)\n",
    "table = soup.find('table')\n",
    "links = table.findAll('a')\n",
    "\n",
    "print(f\"Get {str(len(links))} links!\")\n",
    "\n",
    "appID = []\n",
    "\n",
    "for link in range(len(links)):\n",
    "    appID.append(links[link].get('href').split('/')[2])\n",
    "\n",
    "print(len(appID))"
   ]
  }
 ],
 "metadata": {
  "kernelspec": {
   "display_name": "Python 3",
   "language": "python",
   "name": "python3"
  }
 },
 "nbformat": 4,
 "nbformat_minor": 4
}
