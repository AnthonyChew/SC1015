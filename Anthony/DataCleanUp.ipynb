{
 "cells": [
  {
   "cell_type": "code",
   "execution_count": 2,
   "metadata": {},
   "outputs": [],
   "source": [
    "import pandas as pd"
   ]
  },
  {
   "cell_type": "code",
   "execution_count": 3,
   "metadata": {},
   "outputs": [
    {
     "name": "stdout",
     "output_type": "stream",
     "text": [
      "         appid                                               name  \\\n",
      "0       779420                         #WarGames - Season 1 - Eko   \n",
      "1       856320                         (Removed from steam store)   \n",
      "2      1465860  *NEW* SCUFFED EPIC BHOP SIMULATOR 2023 (POG CH...   \n",
      "3       471640                                               .EXE   \n",
      "4      1109380                                    [it's possible]   \n",
      "...        ...                                                ...   \n",
      "42300  1013890                                 é’è›™è·³æ¨¡æ‹Ÿå™¨   \n",
      "42301   948770                                         é­”å¡”2018   \n",
      "42302  1574330      é­”æ³•å°‘å¥³ã¯è‡ªç”±ã«å¤‰èº«ã§ããªã„ã€‚   \n",
      "42303   835530                                    é­”ç‰©å¨˜ç‰©è¯­   \n",
      "42304  1308790                  é²¸èµ°ï¼šå‰ç¯‡ Whale Left Part 1   \n",
      "\n",
      "                               developer                  publisher  \\\n",
      "0                                    Eko                        Eko   \n",
      "1                                                         Cow Corp.   \n",
      "2      Chris Shanaz, Scuffed Development        shanaz game studios   \n",
      "3              Two Man Army Games, L.L.C  Two Man Army Games, L.L.C   \n",
      "4                               Alscenic        current.gen Studios   \n",
      "...                                  ...                        ...   \n",
      "42300                            Strodio                    Strodio   \n",
      "42301                        Yuna Studio                Yuna Studio   \n",
      "42302              ãƒ‡ã‚¸ãƒ¡ã‚«è£½ä½œæ‰€      ãƒ‡ã‚¸ãƒ¡ã‚«è£½ä½œæ‰€   \n",
      "42303                             langqi                     langqi   \n",
      "42304                          ä¼è¾¾å¿                   ä¼è¾¾å¿    \n",
      "\n",
      "      score_rank positive negative userscore  owners average_forever  ...  \\\n",
      "0                      42       43         0   20000               0  ...   \n",
      "1                      25       16         0   20000               0  ...   \n",
      "2                    4543      423         0  500000               0  ...   \n",
      "3                       7        2         0   20000               0  ...   \n",
      "4                       1        1         0   20000               0  ...   \n",
      "...          ...      ...      ...       ...     ...             ...  ...   \n",
      "42300                  56       23         0   20000               0  ...   \n",
      "42301                 115       16         0   20000               0  ...   \n",
      "42302                  43        1         0   20000               0  ...   \n",
      "42303                  27       18         0   20000               0  ...   \n",
      "42304                   7        1         0   20000               0  ...   \n",
      "\n",
      "           genre6 genre7 English Chinese French German Italian Spanish  \\\n",
      "0                            Yes      No     No     No      No      No   \n",
      "1                            Yes      No     No     No      No      No   \n",
      "2      Simulation            Yes      No     No     No      No      No   \n",
      "3                            Yes      No     No     No      No      No   \n",
      "4                            Yes      No     No     No      No      No   \n",
      "...           ...    ...     ...     ...    ...    ...     ...     ...   \n",
      "42300                        Yes     Yes     No     No      No      No   \n",
      "42301    Strategy             No     Yes     No     No      No      No   \n",
      "42302                        Yes      No     No     No      No      No   \n",
      "42303                        Yes     Yes     No     No      No      No   \n",
      "42304                        Yes     Yes     No     No      No      No   \n",
      "\n",
      "      Total Languages                                Collection  \n",
      "0                   1                               ['English']  \n",
      "1                   1                               ['English']  \n",
      "2                   1                               ['English']  \n",
      "3                   1                               ['English']  \n",
      "4                   1                               ['English']  \n",
      "...               ...                                       ...  \n",
      "42300               3   ['English', 'Chinese', 'Not supported']  \n",
      "42301               1                               ['Chinese']  \n",
      "42302               3  ['English', 'Not supported', 'Japanese']  \n",
      "42303               3   ['English', 'Chinese', 'Not supported']  \n",
      "42304               2                    ['English', 'Chinese']  \n",
      "\n",
      "[42305 rows x 35 columns]\n"
     ]
    }
   ],
   "source": [
    "file = pd.read_csv('GameData.csv' ,dtype = {'name': str,'developer ' : str ,'publisher':str , 'price ':float ,'initialprice ':float }, header=0, low_memory=False , keep_default_na=False , encoding='ANSI')\n",
    "print(file)"
   ]
  },
  {
   "cell_type": "code",
   "execution_count": null,
   "metadata": {},
   "outputs": [],
   "source": []
  }
 ],
 "metadata": {
  "kernelspec": {
   "display_name": "Python 3",
   "language": "python",
   "name": "python3"
  },
  "language_info": {
   "codemirror_mode": {
    "name": "ipython",
    "version": 3
   },
   "file_extension": ".py",
   "mimetype": "text/x-python",
   "name": "python",
   "nbconvert_exporter": "python",
   "pygments_lexer": "ipython3",
   "version": "3.7.6"
  }
 },
 "nbformat": 4,
 "nbformat_minor": 5
}
