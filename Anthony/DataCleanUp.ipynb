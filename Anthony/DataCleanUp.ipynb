{
 "cells": [
  {
   "cell_type": "code",
   "execution_count": 6,
   "id": "712b4ec6",
   "metadata": {},
   "outputs": [],
   "source": [
    "import pandas as pd"
   ]
  },
  {
   "cell_type": "code",
   "execution_count": 7,
   "id": "2e0a75fe",
   "metadata": {},
   "outputs": [],
   "source": [
    "myData = pd.read_csv('GameData.csv'  , header = 0)"
   ]
  },
  {
   "cell_type": "code",
   "execution_count": 8,
   "id": "7edf1276",
   "metadata": {},
   "outputs": [
    {
     "name": "stdout",
     "output_type": "stream",
     "text": [
      "      appid                                               name  \\\n",
      "0       730                   Counter-Strike: Global Offensive   \n",
      "1         5                                   Dedicated Server   \n",
      "2         7                                       Steam Client   \n",
      "3         8                                             winui2   \n",
      "4        10                                     Counter-Strike   \n",
      "...     ...                                                ...   \n",
      "2971  33290                Call of Juarez: Bound in Blood Demo   \n",
      "2972  33310                                      R.U.S.E. Demo   \n",
      "2973  33320              Prince of Persia: The Forgotten Sands   \n",
      "2974  33325  Prince of Persia: The Forgotten Sands - Deluxe...   \n",
      "2975  33326  Prince of Persia: The Forgotten Sands - Standa...   \n",
      "\n",
      "                             developer publisher  score_rank  positive  \\\n",
      "0     Valve, Hidden Path Entertainment     Valve         NaN   5530501   \n",
      "1                                  NaN       NaN         NaN         0   \n",
      "2                                  NaN       NaN         NaN         0   \n",
      "3                                  NaN       NaN         NaN         0   \n",
      "4                                Valve     Valve         NaN    194023   \n",
      "...                                ...       ...         ...       ...   \n",
      "2971                          Techland   Ubisoft         NaN      1229   \n",
      "2972                     Eugen Systems   Ubisoft         NaN         0   \n",
      "2973                  Ubisoft Montreal   Ubisoft         NaN      1036   \n",
      "2974                               NaN       NaN         NaN         0   \n",
      "2975                               NaN       NaN         NaN         0   \n",
      "\n",
      "      negative  userscore     owners  average_forever  average_2weeks  \\\n",
      "0       739849          0  100000000            29339             739   \n",
      "1            0          0      20000                0               0   \n",
      "2            0          0      20000                0               0   \n",
      "3            0          0      20000                0               0   \n",
      "4         4977          0   20000000            10994              89   \n",
      "...        ...        ...        ...              ...             ...   \n",
      "2971       249          0      20000                0               0   \n",
      "2972         0          0      20000                0               0   \n",
      "2973       470          0     500000              617               0   \n",
      "2974         0          0      20000                0               0   \n",
      "2975         0          0      20000                0               0   \n",
      "\n",
      "      median_forever  median_2weeks price  initialprice  discount     ccu  \\\n",
      "0               7161            316     0             0         0  786169   \n",
      "1                  0              0     0             0         0       0   \n",
      "2                  0              0     0             0         0      27   \n",
      "3                  0              0     0             0         0       1   \n",
      "4                151             20   999           999         0   13706   \n",
      "...              ...            ...   ...           ...       ...     ...   \n",
      "2971               0              0     0             0         0       1   \n",
      "2972               0              0     0             0         0       1   \n",
      "2973             657              0   199           999        80       8   \n",
      "2974               0              0     0             0         0       0   \n",
      "2975               0              0     0             0         0       0   \n",
      "\n",
      "                                              languages                 genre  \\\n",
      "0     English, Czech, Danish, Dutch, Finnish, French...  Action, Free to Play   \n",
      "1                                                   NaN                   NaN   \n",
      "2                                                   NaN                   NaN   \n",
      "3                                                   NaN                   NaN   \n",
      "4     English, French, German, Italian, Spanish - Sp...                Action   \n",
      "...                                                 ...                   ...   \n",
      "2971                                            English                Action   \n",
      "2972                                                NaN                   NaN   \n",
      "2973  English, French, German, Italian, Spanish - Spain     Action, Adventure   \n",
      "2974                                                NaN                   NaN   \n",
      "2975                                                NaN                   NaN   \n",
      "\n",
      "                                                   tags  \n",
      "0     87399,62740,59922,51349,45887,44840,41734,3997...  \n",
      "1                                                    []  \n",
      "2                                                    []  \n",
      "3                                                    []  \n",
      "4     5381,4805,3365,3330,2760,1847,1693,1591,1327,1...  \n",
      "...                                                 ...  \n",
      "2971      136,102,93,54,46,42,40,37,37,37,27,24,20,10,6  \n",
      "2972                                                 []  \n",
      "2973                         75,67,40,35,30,27,21,9,7,7  \n",
      "2974                                                 []  \n",
      "2975                                                 []  \n",
      "\n",
      "[2976 rows x 20 columns]\n"
     ]
    }
   ],
   "source": [
    "print(myData)\n"
   ]
  },
  {
   "cell_type": "code",
   "execution_count": null,
   "id": "239e529b",
   "metadata": {},
   "outputs": [],
   "source": []
  }
 ],
 "metadata": {
  "kernelspec": {
   "display_name": "Python 3",
   "language": "python",
   "name": "python3"
  },
  "language_info": {
   "codemirror_mode": {
    "name": "ipython",
    "version": 3
   },
   "file_extension": ".py",
   "mimetype": "text/x-python",
   "name": "python",
   "nbconvert_exporter": "python",
   "pygments_lexer": "ipython3",
   "version": "3.8.8"
  }
 },
 "nbformat": 4,
 "nbformat_minor": 5
}
