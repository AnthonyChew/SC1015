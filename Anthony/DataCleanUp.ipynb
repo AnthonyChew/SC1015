{
 "cells": [
  {
   "cell_type": "code",
   "execution_count": 1,
   "id": "712b4ec6",
   "metadata": {},
   "outputs": [],
   "source": [
    "import pandas as pd"
   ]
  },
  {
   "cell_type": "code",
   "execution_count": 2,
   "id": "2e0a75fe",
   "metadata": {},
   "outputs": [],
   "source": [
    "myData = pd.read_csv('GameData.csv'  , header = 0)"
   ]
  },
  {
   "cell_type": "code",
   "execution_count": 3,
   "id": "7edf1276",
   "metadata": {},
   "outputs": [
    {
     "name": "stdout",
     "output_type": "stream",
     "text": [
      "      appid                           name         developer  \\\n",
      "0         5               Dedicated Server               NaN   \n",
      "1         7                   Steam Client               NaN   \n",
      "2         8                         winui2               NaN   \n",
      "3        10                 Counter-Strike             Valve   \n",
      "4        20          Team Fortress Classic             Valve   \n",
      "...     ...                            ...               ...   \n",
      "6699  99900                 Spiral Knights  Grey Havens, LLC   \n",
      "6700  99909  Spiral Knights - Sonic CD DLC               NaN   \n",
      "6701  99910                 Puzzle Pirates  Grey Havens, LLC   \n",
      "6702  99920         Spiral Knights Preview               NaN   \n",
      "6703  99930          [Test] Puzzle Pirates               NaN   \n",
      "\n",
      "             publisher  score_rank  positive  negative  userscore    owners  \\\n",
      "0                  NaN         NaN         0         0          0     20000   \n",
      "1                  NaN         NaN         0         0          0     20000   \n",
      "2                  NaN         NaN         0         0          0     20000   \n",
      "3                Valve         NaN    194023      4977          0  20000000   \n",
      "4                Valve         NaN      5456       904          0  10000000   \n",
      "...                ...         ...       ...       ...        ...       ...   \n",
      "6699  Grey Havens, LLC         NaN     18720      3565          0   5000000   \n",
      "6700               NaN         NaN         0         0          0     20000   \n",
      "6701  Grey Havens, LLC         NaN      1362       329          0    500000   \n",
      "6702               NaN         NaN         0         0          0     20000   \n",
      "6703               NaN         NaN         0         0          0     20000   \n",
      "\n",
      "      average_forever  average_2weeks  median_forever  median_2weeks price  \\\n",
      "0                   0               0               0              0     0   \n",
      "1                   0               0               0              0     0   \n",
      "2                   0               0               0              0     0   \n",
      "3               10994              89             151             20   999   \n",
      "4                 159               0              16              0   499   \n",
      "...               ...             ...             ...            ...   ...   \n",
      "6699             1577               0             138              0     0   \n",
      "6700                0               0               0              0     0   \n",
      "6701              369               0              80              0     0   \n",
      "6702                0               0               0              0     0   \n",
      "6703                0               0               0              0     0   \n",
      "\n",
      "      initialprice  discount    ccu  \\\n",
      "0                0         0      0   \n",
      "1                0         0     27   \n",
      "2                0         0      1   \n",
      "3              999         0  13706   \n",
      "4              499         0     96   \n",
      "...            ...       ...    ...   \n",
      "6699             0         0    128   \n",
      "6700             0         0      0   \n",
      "6701             0         0     97   \n",
      "6702             0         0      0   \n",
      "6703             0         0      0   \n",
      "\n",
      "                                              languages  \\\n",
      "0                                                   NaN   \n",
      "1                                                   NaN   \n",
      "2                                                   NaN   \n",
      "3     English, French, German, Italian, Spanish - Sp...   \n",
      "4     English, French, German, Italian, Spanish - Sp...   \n",
      "...                                                 ...   \n",
      "6699           English, French, German, Spanish - Spain   \n",
      "6700                                                NaN   \n",
      "6701                   English, German, Spanish - Spain   \n",
      "6702                                                NaN   \n",
      "6703                                                NaN   \n",
      "\n",
      "                                                  genre  \\\n",
      "0                                                   NaN   \n",
      "1                                                   NaN   \n",
      "2                                                   NaN   \n",
      "3                                                Action   \n",
      "4                                                Action   \n",
      "...                                                 ...   \n",
      "6699  Action, Adventure, Casual, Free to Play, Indie...   \n",
      "6700                                                NaN   \n",
      "6701  Adventure, Casual, Free to Play, Massively Mul...   \n",
      "6702                                                NaN   \n",
      "6703                                                NaN   \n",
      "\n",
      "                                                   tags  \n",
      "0                                                    []  \n",
      "1                                                    []  \n",
      "2                                                    []  \n",
      "3     5381,4805,3365,3330,2760,1847,1693,1591,1327,1...  \n",
      "4     746,307,258,233,213,206,189,182,169,133,106,89...  \n",
      "...                                                 ...  \n",
      "6699  1156,638,614,600,532,516,501,409,331,314,308,2...  \n",
      "6700                                                 []  \n",
      "6701                    116,89,80,74,71,54,54,30,15,7,5  \n",
      "6702                                                 []  \n",
      "6703                                                 []  \n",
      "\n",
      "[6704 rows x 20 columns]\n"
     ]
    }
   ],
   "source": [
    "print(myData)\n"
   ]
  },
  {
   "cell_type": "code",
   "execution_count": null,
   "id": "239e529b",
   "metadata": {},
   "outputs": [],
   "source": []
  }
 ],
 "metadata": {
  "kernelspec": {
   "display_name": "Python 3",
   "language": "python",
   "name": "python3"
  },
  "language_info": {
   "codemirror_mode": {
    "name": "ipython",
    "version": 3
   },
   "file_extension": ".py",
   "mimetype": "text/x-python",
   "name": "python",
   "nbconvert_exporter": "python",
   "pygments_lexer": "ipython3",
   "version": "3.8.8"
  }
 },
 "nbformat": 4,
 "nbformat_minor": 5
}
