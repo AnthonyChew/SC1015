{
 "cells": [
  {
   "cell_type": "code",
   "execution_count": 1,
   "metadata": {},
   "outputs": [],
   "source": [
    "import pandas as pd\n",
    "import collections\n",
    "import json\n",
    "import csv\n",
    "import numpy as np"
   ]
  },
  {
   "cell_type": "markdown",
   "metadata": {},
   "source": [
    "# Read csv to dataframe(ANSI encoding)\n",
    "\n",
    "## Column DataType\n",
    "- name: str\n",
    "- owners:int\n",
    "- developer: str\n",
    "- positive:int\n",
    "- publisher:str\n",
    "- price:float\n",
    "- initialprice:float"
   ]
  },
  {
   "cell_type": "code",
   "execution_count": null,
   "metadata": {},
   "outputs": [],
   "source": [
    "file = pd.read_csv('GameData.csv' ,low_memory=0, header=0 , keep_default_na=False , encoding='ANSI')"
   ]
  },
  {
   "cell_type": "markdown",
   "metadata": {},
   "source": [
    "# Remove unrealated Data\n",
    "\n",
    "- accounting\n",
    "- animation & modeling\n",
    "- game developlemnt\n",
    "- video production\n",
    "- photo editing\n",
    "- web-publisting\n",
    "- utilities\n",
    "- autdio production\n",
    "- software training"
   ]
  },
  {
   "cell_type": "code",
   "execution_count": null,
   "metadata": {},
   "outputs": [],
   "source": [
    "#Removing data from Genre   \n",
    "count = 0\n",
    "tempList = [] #new tempList\n",
    "for entry in file['genre'].values.tolist(): \n",
    "    \n",
    "    if(\"Accounting\" in entry or 'Animation & Modeling' in entry or 'Game Development' in entry or 'Video Production' in entry or 'Animation & Modeling' in entry or 'Photo Editing' in entry or 'Web Publishing' in entry or 'Utilities' in entry or 'Audio Production' in entry or 'Software Training' in entry): \n",
    "        tempList.append(count)#append \n",
    "    count += 1 #inc\n",
    "    \n",
    "file = file.drop(tempList)"
   ]
  },
  {
   "cell_type": "markdown",
   "metadata": {},
   "source": [
    "# Merging similar columns\n",
    "\n",
    "- Action  & adventure -- Act_Adv\n",
    "- violent & gore & sexual content & nudity -- 18+"
   ]
  },
  {
   "cell_type": "code",
   "execution_count": null,
   "metadata": {},
   "outputs": [],
   "source": [
    "tempList = [] #new tempList\n",
    "for entry in file['genre'].values.tolist(): \n",
    "    if(\"Violent\" in entry or \"Gore\" in entry or \"Sexual Content\" in entry or \"Nudity\" in entry):\n",
    "        tempList.append(1)\n",
    "    else:\n",
    "        tempList.append(0)\n",
    "        \n",
    "#Append column\n",
    "file['18+'] = tempList\n",
    "\n",
    "tempList = [] #new tempList\n",
    "for entry in file['genre'].values.tolist(): \n",
    "    if(\"Action\" in entry or \"Adventure\" in entry):\n",
    "        tempList.append(1)\n",
    "    else:\n",
    "        tempList.append(0)\n",
    "        \n",
    "#Append column\n",
    "file['Act_Adv'] = tempList"
   ]
  },
  {
   "cell_type": "markdown",
   "metadata": {},
   "source": [
    "# Onehot genre column\n",
    "\n",
    "- Casual\n",
    "- Indie\n",
    "- Free To Play\n",
    "- RPG\n",
    "- Strategy\n",
    "- Sports\n",
    "- Simulation\n",
    "- Racing\n",
    "- Massivley Multiplayer"
   ]
  },
  {
   "cell_type": "code",
   "execution_count": null,
   "metadata": {},
   "outputs": [],
   "source": [
    "myList = [\"Casual\",\"Indie\",\"Free To Play\",\"RPG\",\"Strategy\",\"Sports\",\"Simulation\",\"Racing\",\"Massivley Multiplayer\"]\n",
    "\n",
    "for genre in myList:\n",
    "    tempList = [] #new tempList\n",
    "    \n",
    "    #Loop through all genre in list\n",
    "    for entry in file['genre'].values.tolist(): \n",
    "        #If genre found set val to 1 else 0\n",
    "        if(genre in entry):\n",
    "            tempList.append(1)\n",
    "        else:\n",
    "            tempList.append(0)\n",
    "    #Append column\n",
    "    file[genre] = tempList"
   ]
  },
  {
   "cell_type": "markdown",
   "metadata": {},
   "source": [
    "# Onehot language column\n",
    "\n",
    "- English\n",
    "- Chinese\n",
    "- French\n",
    "- German\n",
    "- Italian\n",
    "- Spanish\n",
    "\n",
    "## And extra columns with total language supported"
   ]
  },
  {
   "cell_type": "markdown",
   "metadata": {},
   "source": [
    "## Function to set value for onehot column"
   ]
  },
  {
   "cell_type": "code",
   "execution_count": null,
   "metadata": {},
   "outputs": [],
   "source": [
    "def languagefilter(lst, check):\n",
    "    newlist = []\n",
    "    print('\\nList: ', lst, '\\n')\n",
    "    length = len(lst)\n",
    "    for i in range(length):\n",
    "        if \"English\" in lst[i]:\n",
    "            check[0] = \"1\"\n",
    "            lst[i] = \"removed\"\n",
    "        elif \"Chinese\" in lst[i]:\n",
    "            check[1] = \"1\"\n",
    "            lst[i] = \"removed\"\n",
    "        elif \"French\" in lst[i]:\n",
    "            check[2] = \"1\"\n",
    "            lst[i] = \"removed\"\n",
    "        elif \"German\" in lst[i]:\n",
    "            check[3] = \"1\"\n",
    "            lst[i] = \"removed\"\n",
    "        elif \"Italian\" in lst[i]:\n",
    "            check[4] = \"1\"\n",
    "            lst[i] = \"removed\"\n",
    "        elif \"Spanish\" in lst[i]:\n",
    "            check[5] = \"1\"\n",
    "            lst[i] = \"removed\"\n",
    "        \n",
    "    for j in lst:\n",
    "        print(\"j: \", j)\n",
    "        if j == \"removed\":\n",
    "            continue\n",
    "        else:\n",
    "            newlist.append(j)\n",
    "    \n",
    "    \n",
    "    if check[5] == \"1\":\n",
    "        newlist.insert(0, \"Spanish\")\n",
    "    \n",
    "    if check[4] == \"1\":\n",
    "        newlist.insert(0, \"Italian\")\n",
    "    \n",
    "    if check[3] == \"1\":\n",
    "        newlist.insert(0, \"German\")\n",
    "    \n",
    "    if check[2] == \"1\":\n",
    "        newlist.insert(0, \"French\")\n",
    "   \n",
    "    if check[1] == \"1\":\n",
    "        newlist.insert(0, \"Chinese\")\n",
    "    \n",
    "    if check[0] == \"1\":\n",
    "        newlist.insert(0, \"English\")\n",
    "    \n",
    "    check[6] = len(newlist)\n",
    "    check[7] = newlist\n",
    "    print(check, '\\n\\n')\n",
    "    return check"
   ]
  },
  {
   "cell_type": "code",
   "execution_count": null,
   "metadata": {},
   "outputs": [],
   "source": [
    "#Get lanaguage column\n",
    "lang = pd.DataFrame(file, columns=['languages'])\n",
    "\n",
    "#Top used language\n",
    "newlang = pd.DataFrame(columns=[\"English\", \"Chinese\", \"French\", \"German\", \"Italian\", \"Spanish\", \"Total Languages\", \"Collection\"])\n",
    "\n",
    "#New List\n",
    "langlist = []\n",
    "\n",
    "#Loop throguh all columns\n",
    "for i in range(len(lang)):\n",
    "    \n",
    "    #New columns to append\n",
    "    toappend = [\"0\", \"0\", \"0\", \"0\", \"0\", \"0\", 0, lang['languages'][i]]\n",
    "    \n",
    "    #If no language found list = empty list else split language to list\n",
    "    if lang['languages'][i] == '':\n",
    "        strlist = []\n",
    "    else:\n",
    "        string = lang['languages'][i]\n",
    "        strlist = string.split(', ')\n",
    "    \n",
    "    #Check thorught list and set append column\n",
    "    toappend = languagefilter(strlist, toappend)\n",
    "    \n",
    "    #append column\n",
    "    strseries = pd.Series(toappend, index=newlang.columns)\n",
    "    newlang = newlang.append(strseries, ignore_index=True)\n",
    "\n",
    "#concat dataframe\n",
    "file = pd.concat([file, newlang], axis=1)"
   ]
  },
  {
   "cell_type": "markdown",
   "metadata": {},
   "source": [
    "# Calculating review Score Column \n",
    "\n",
    "## review_score = (positive score / positive score * negativescore) * 100"
   ]
  },
  {
   "cell_type": "code",
   "execution_count": null,
   "metadata": {},
   "outputs": [],
   "source": [
    "data = file[['positive', 'negative']]\n",
    "\n",
    "pos, neg, total = 0, 0, 0\n",
    "for i in data['positive']:\n",
    "    if i == 0:\n",
    "        pos += 1\n",
    "        \n",
    "for j in data['negative']:\n",
    "    if j == 0:\n",
    "        neg += 1\n",
    "        \n",
    "for i in range(0,len(data)):\n",
    "    if data['positive'][i] == 0 and data['negative'][i] == 0:\n",
    "        data['review'][i] = 0\n",
    "    else:\n",
    "        data['review'][i] = int((data['positive'][i] / (data['positive'][i] + data['negative'][i])) * 100)\n"
   ]
  },
  {
   "cell_type": "markdown",
   "metadata": {},
   "source": [
    "# Convert price to categorical data\n",
    "\n",
    "## Create a dictonary with \n",
    "- Key: Amount of owner\n",
    "- Value: Number maps to owner\n",
    "\n",
    "### Then maps owner to category\n",
    "\n",
    "### Categorical owners\n",
    "- 0-20000: 0\n",
    "- 20001-50000: 1\n",
    "- 50001-100000: 2\n",
    "- 100001-200000: 3\n",
    "- 200001-500000: 4\n",
    "- 500001-1000000: 5\n",
    "- 1000001-2000000: 6 \n",
    "- 2000001-5000000: 7 \n",
    "- 5000001-10000000: 8 \n",
    "- 10000001-50000000: 9 \n",
    "- 50000001-20000000: 10\n",
    "- 20000001-100000000: 11 \n",
    "- 100000001-200000000: 12"
   ]
  },
  {
   "cell_type": "code",
   "execution_count": 2,
   "metadata": {},
   "outputs": [
    {
     "name": "stdout",
     "output_type": "stream",
     "text": [
      "{'[20000]': 0, '[50000]': 1, '[100000]': 2, '[200000]': 3, '[500000]': 4, '[1000000]': 5, '[2000000]': 6, '[5000000]': 7, '[10000000]': 8, '[20000000]': 9, '[50000000]': 10, '[100000000]': 11, '[200000000]': 12}\n"
     ]
    }
   ],
   "source": [
    "#Get owners row\n",
    "owners = pd.DataFrame(file['owners'])\n",
    "\n",
    "#Make val to list\n",
    "tempList = owners.values.tolist()\n",
    "\n",
    "#New Dic\n",
    "tempDic = {}\n",
    "\n",
    "#Counter\n",
    "count = 0\n",
    "\n",
    "#Create Dic \n",
    "for data in tempList:\n",
    "    if(tempDic.get(str(data)) == None):\n",
    "        tempDic[str(data)] = count\n",
    "        count += 1       \n",
    "        \n",
    "tempList = []\n",
    "        \n",
    "#Maps owner to category\n",
    "for row in owners.values.tolist():\n",
    "    tempList.append(tempDic[str(row)])\n",
    "\n",
    "#Append column\n",
    "file[\"owner_cat\"] = tempList"
   ]
  },
  {
   "cell_type": "markdown",
   "metadata": {},
   "source": [
    "# Generate new csv "
   ]
  },
  {
   "cell_type": "code",
   "execution_count": null,
   "metadata": {},
   "outputs": [],
   "source": [
    "file = file.to_csv('GameData_cleaned.csv') #New CSV file"
   ]
  }
 ],
 "metadata": {
  "kernelspec": {
   "display_name": "Python 3",
   "language": "python",
   "name": "python3"
  },
  "language_info": {
   "codemirror_mode": {
    "name": "ipython",
    "version": 3
   },
   "file_extension": ".py",
   "mimetype": "text/x-python",
   "name": "python",
   "nbconvert_exporter": "python",
   "pygments_lexer": "ipython3",
   "version": "3.7.6"
  }
 },
 "nbformat": 4,
 "nbformat_minor": 4
}
