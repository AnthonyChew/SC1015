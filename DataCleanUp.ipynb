{
 "cells": [
  {
   "cell_type": "code",
   "execution_count": 1,
   "metadata": {},
   "outputs": [],
   "source": [
    "import pandas as pd\n",
    "import collections\n",
    "import json"
   ]
  },
  {
   "cell_type": "markdown",
   "metadata": {},
   "source": [
    "# Remove unrealated Data"
   ]
  },
  {
   "cell_type": "code",
   "execution_count": null,
   "metadata": {},
   "outputs": [],
   "source": [
    "file = pd.read_csv('GameData_Ant.csv' ,dtype = {'name': str,'owners':int,'developer ' : str,'positive':int ,'publisher':str , 'price ':float ,'initialprice ':float }, header=0 , keep_default_na=False , encoding='ANSI')\n",
    "\n",
    "count = 0 #initilize count \n",
    "tempList = [] #temp list to store index\n",
    "\n",
    "#loop through name list to find test server and delicated server\n",
    "for entry in file['name'].values.tolist():\n",
    "    if(\"Test Server\" in entry or 'Dedicated Server' in entry or 'Playtest' in entry ):\n",
    "        tempList.append(count)#append\n",
    "    count += 1#increment count\n",
    "\n",
    "#drop row\n",
    "tempDF = file.drop(tempList)\n",
    "#save csv\n",
    "tempDF.to_csv('GameData_cleaned.csv')"
   ]
  },
  {
   "cell_type": "markdown",
   "metadata": {},
   "source": [
    "# Convert price to categorical data\n"
   ]
  },
  {
   "cell_type": "code",
   "execution_count": 2,
   "metadata": {},
   "outputs": [
    {
     "name": "stdout",
     "output_type": "stream",
     "text": [
      "{'[20000]': 0, '[50000]': 1, '[100000]': 2, '[200000]': 3, '[500000]': 4, '[1000000]': 5, '[2000000]': 6, '[5000000]': 7, '[10000000]': 8, '[20000000]': 9, '[50000000]': 10, '[100000000]': 11, '[200000000]': 12}\n"
     ]
    }
   ],
   "source": [
    "file = pd.read_csv('GameData_sorted.csv' ,dtype = {'positive':int ,'publisher':str , 'price ':float ,'initialprice ':float }, header=0 , keep_default_na=False , encoding='ANSI')\n",
    "\n",
    "owners = pd.DataFrame(file['owners'])\n",
    "\n",
    "tempList = owners.values.tolist()\n",
    "tempDic = {}\n",
    "count = 0\n",
    "\n",
    "for data in tempList:\n",
    "    if(tempDic.get(str(data)) == None):\n",
    "        tempDic[str(data)] = count\n",
    "        count += 1        \n",
    "\n",
    "for row in owners.values.tolist():\n",
    "    tempList.append(tempDic[str(row)])\n",
    "\n",
    "    \n",
    "#mypd = pd.DataFrame(tempList)\n",
    "#mypd.to_csv('test.csv')\n",
    "print(tempDic)"
   ]
  },
  {
   "cell_type": "code",
   "execution_count": null,
   "metadata": {},
   "outputs": [],
   "source": []
  }
 ],
 "metadata": {
  "kernelspec": {
   "display_name": "Python 3",
   "language": "python",
   "name": "python3"
  },
  "language_info": {
   "codemirror_mode": {
    "name": "ipython",
    "version": 3
   },
   "file_extension": ".py",
   "mimetype": "text/x-python",
   "name": "python",
   "nbconvert_exporter": "python",
   "pygments_lexer": "ipython3",
   "version": "3.7.6"
  }
 },
 "nbformat": 4,
 "nbformat_minor": 4
}
