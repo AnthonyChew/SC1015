{
 "cells": [
  {
   "cell_type": "code",
   "execution_count": 1,
   "metadata": {},
   "outputs": [],
   "source": [
    "#libraries\n",
    "import requests\n",
    "import json\n",
    "import time\n",
    "import pandas as pd\n",
    "import numpy as np\n",
    "import os\n",
    "from bs4 import BeautifulSoup"
   ]
  },
  {
   "cell_type": "markdown",
   "metadata": {},
   "source": [
    "# Data Cleaning\n",
    "\n",
    "## *Classify together*\n",
    "- violent & gore & sexual content & nudity -- 18+\n",
    "- action & adventure -- Act_Adv\n",
    "\n",
    "\n",
    "\n",
    "\n",
    "\n",
    "## *Remove*\n",
    "- accounting\n",
    "- animation & modeling\n",
    "- game developlemnt\n",
    "- video production\n",
    "- photo editing\n",
    "- web-publisting\n",
    "- utilities\n",
    "- autdio production\n",
    "- software training"
   ]
  },
  {
   "cell_type": "code",
   "execution_count": 2,
   "metadata": {},
   "outputs": [],
   "source": [
    "#file is file to be manipulated, ANSI Encoding\n",
    "\n",
    "\"\"\" NOTE: YOU WILL GENERATE A NEW CSV FILE, NOT OVERWRITE YOUR CSV \"\"\"\n",
    "\n",
    "genres = [\"genre1\",\"genre2\",\"genre3\",\"genre4\",\"genre5\",\"genre6\",\"genre7\"]\n",
    "\n",
    "#file = open(\"GameData_cleaned.txt\", \"a\" , encoding=\"ANSI\") \n",
    "#################### INSERT YOUR FILE HERE ################\n",
    "file = pd.read_csv('GameData.csv' ,dtype = {'name': str,'owners':int,'developer ' : str,'positive':int ,'publisher':str , 'price ':float ,'initialprice ':float }, header=0 , keep_default_na=False , encoding='ANSI')\n"
   ]
  },
  {
   "cell_type": "code",
   "execution_count": 3,
   "metadata": {},
   "outputs": [],
   "source": [
    "\"\"\" PART 2 Removing data from Genre \"\"\"    \n",
    "count = 0\n",
    "tempList = [] #new tempList\n",
    "for entry in file['genre'].values.tolist(): \n",
    "    \n",
    "    if(\"Accounting\" in entry or 'Animation & Modeling' in entry or 'Game Development' in entry or 'Video Production' in entry or 'Animation & Modeling' in entry or 'Photo Editing' in entry or 'Web Publishing' in entry or 'Utilities' in entry or 'Audio Production' in entry or 'Software Training' in entry): \n",
    "        tempList.append(count)#append \n",
    "    count += 1 #inc\n",
    "    \n",
    "file = file.drop(tempList)"
   ]
  },
  {
   "cell_type": "code",
   "execution_count": 4,
   "metadata": {},
   "outputs": [],
   "source": [
    "\"\"\" PART 1 Removing data from Name\"\"\"\n",
    "count = 0     #for index of rows\n",
    "tempList = [] #temp list to store index of rows to drop later\n",
    "\n",
    "for entry in file['name'].values.tolist():\n",
    "    if(\"Test Server\" in entry or 'Dedicated Server' in entry or 'Playtest' in entry or 'Game Development' in entry):\n",
    "        tempList.append(count)  \n",
    "    count += 1\n",
    "    \n",
    "#REMOVE DATA\n",
    "file = file.drop(tempList)"
   ]
  },
  {
   "cell_type": "code",
   "execution_count": 5,
   "metadata": {},
   "outputs": [],
   "source": [
    "\"\"\" PART 3 Combining data \"\"\"    \n",
    "\n",
    "tempList = [] #new tempList\n",
    "for entry in file['genre'].values.tolist(): \n",
    "    if(\"Violent\" in entry or \"Gore\" in entry or \"Sexual Content\" in entry or \"Nudity\" in entry):\n",
    "        tempList.append(1)\n",
    "    else:\n",
    "        tempList.append(0)\n",
    "        #one HoT!\n",
    "file['18+'] = tempList"
   ]
  },
  {
   "cell_type": "code",
   "execution_count": 6,
   "metadata": {},
   "outputs": [],
   "source": [
    "myList = [\"Casual\",\"Indie\",\"Free To Play\",\"RPG\",\"Strategy\",\"Sports\",\"Simulation\",\"Racing\",\"Massivley Multiplayer\"]\n",
    "\n",
    "for genre in myList:\n",
    "    tempList = [] #new tempList\n",
    "    \n",
    "    for entry in file['genre'].values.tolist(): \n",
    "        if(genre in entry):\n",
    "            tempList.append(1)\n",
    "        else:\n",
    "            tempList.append(0)\n",
    "        #one HoT!\n",
    "    file[genre] = tempList"
   ]
  },
  {
   "cell_type": "code",
   "execution_count": 7,
   "metadata": {},
   "outputs": [
    {
     "name": "stdout",
     "output_type": "stream",
     "text": [
      "None\n"
     ]
    }
   ],
   "source": [
    "\n",
    "tempList = [] #new tempList\n",
    "for entry in file['genre'].values.tolist(): \n",
    "    if(\"Action\" in entry or \"Adventure\" in entry):\n",
    "        tempList.append(1)\n",
    "    else:\n",
    "        tempList.append(0)\n",
    "        #one HoT!\n",
    "file['Act_Adv'] = tempList\n",
    "    \n",
    "##################### SAVE CSV FILE, NEW CSV FILE NAME ######################\n",
    "file = file.to_csv('GameData_cleaned1.csv') #New CSV file\n",
    "\n",
    "\n",
    "print(file)\n",
    "#DEBUG, CAN IGNORE\n",
    "# count = 0\n",
    "# tempList = [] #new tempList\n",
    "# for entry in file[genres].values.tolist(): \n",
    "#     print(entry)\n",
    "#print(file)"
   ]
  },
  {
   "cell_type": "code",
   "execution_count": null,
   "metadata": {},
   "outputs": [],
   "source": []
  }
 ],
 "metadata": {
  "kernelspec": {
   "display_name": "Python 3",
   "language": "python",
   "name": "python3"
  },
  "language_info": {
   "codemirror_mode": {
    "name": "ipython",
    "version": 3
   },
   "file_extension": ".py",
   "mimetype": "text/x-python",
   "name": "python",
   "nbconvert_exporter": "python",
   "pygments_lexer": "ipython3",
   "version": "3.7.6"
  }
 },
 "nbformat": 4,
 "nbformat_minor": 5
}
