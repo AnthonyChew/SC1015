{
 "cells": [
  {
   "cell_type": "markdown",
   "id": "82654274",
   "metadata": {},
   "source": [
    "# Decision Tree Classifier, Random Forest Classifier on Game Prediction\n",
    "\n",
    "#### Dataset from \"SteamSpy\" based on Steam with estimated number of Owners per game. \n",
    "Source: \"https://steamspy.com/\""
   ]
  },
  {
   "cell_type": "markdown",
   "id": "446c4a9d",
   "metadata": {},
   "source": [
    "### Import the necessary modules and loaded the data into a Pandas DataFrame named data"
   ]
  },
  {
   "cell_type": "code",
   "execution_count": 1,
   "id": "f1097fe2",
   "metadata": {},
   "outputs": [],
   "source": [
    "import numpy as np\n",
    "import pandas as pd\n",
    "import seaborn as sb\n",
    "import matplotlib.pyplot as plt # we only need pyplot\n",
    "sb.set() # set the default Seaborn style for graphics\n",
    "\n",
    "from sklearn.tree import DecisionTreeClassifier\n",
    "from sklearn.tree import plot_tree\n",
    "from sklearn.metrics import confusion_matrix\n",
    "from sklearn.tree import DecisionTreeClassifier\n",
    "from sklearn.model_selection import train_test_split\n"
   ]
  },
  {
   "cell_type": "code",
   "execution_count": 13,
   "id": "b883e9ad",
   "metadata": {
    "scrolled": true
   },
   "outputs": [
    {
     "name": "stdout",
     "output_type": "stream",
     "text": [
      "<class 'pandas.core.frame.DataFrame'>\n",
      "RangeIndex: 41308 entries, 0 to 41307\n",
      "Data columns (total 41 columns):\n",
      " #   Column                 Non-Null Count  Dtype  \n",
      "---  ------                 --------------  -----  \n",
      " 0   appid                  41308 non-null  int64  \n",
      " 1   name                   41308 non-null  object \n",
      " 2   developer              41308 non-null  object \n",
      " 3   publisher              41308 non-null  object \n",
      " 4   score_rank             41308 non-null  object \n",
      " 5   positive               41308 non-null  int64  \n",
      " 6   negative               41308 non-null  int64  \n",
      " 7   userscore              41308 non-null  int64  \n",
      " 8   owners                 41308 non-null  int64  \n",
      " 9   average_forever        41308 non-null  int64  \n",
      " 10  average_2weeks         41308 non-null  int64  \n",
      " 11  median_forever         41308 non-null  int64  \n",
      " 12  median_2weeks          41308 non-null  int64  \n",
      " 13  price                  41308 non-null  float64\n",
      " 14  initialprice           41308 non-null  float64\n",
      " 15  discount               41308 non-null  int64  \n",
      " 16  ccu                    41308 non-null  int64  \n",
      " 17  languages              41308 non-null  object \n",
      " 18  genre                  41308 non-null  object \n",
      " 19  tags                   41308 non-null  object \n",
      " 20  english                41308 non-null  int64  \n",
      " 21  chinese                41308 non-null  int64  \n",
      " 22  french                 41308 non-null  int64  \n",
      " 23  german                 41308 non-null  int64  \n",
      " 24  italian                41308 non-null  int64  \n",
      " 25  spanish                41308 non-null  int64  \n",
      " 26  total_lang             41308 non-null  int64  \n",
      " 27  lang_collection        41308 non-null  object \n",
      " 28  owner_cat              41308 non-null  int64  \n",
      " 29  18+                    41308 non-null  int64  \n",
      " 30  Casual                 41308 non-null  int64  \n",
      " 31  Indie                  41308 non-null  int64  \n",
      " 32  Free To Play           41308 non-null  int64  \n",
      " 33  RPG                    41308 non-null  int64  \n",
      " 34  Strategy               41308 non-null  int64  \n",
      " 35  Sports                 41308 non-null  int64  \n",
      " 36  Simulation             41308 non-null  int64  \n",
      " 37  Racing                 41308 non-null  int64  \n",
      " 38  Massivley Multiplayer  41308 non-null  int64  \n",
      " 39  Act_Adv                41308 non-null  int64  \n",
      " 40  review                 41308 non-null  int64  \n",
      "dtypes: float64(2), int64(31), object(8)\n",
      "memory usage: 12.9+ MB\n"
     ]
    }
   ],
   "source": [
    "data = pd.read_csv('GameData_backup_with_review.csv' ,low_memory=0, header=0 , keep_default_na=False , encoding='ANSI')\n",
    "data.info()"
   ]
  },
  {
   "cell_type": "code",
   "execution_count": 14,
   "id": "1eea8b76",
   "metadata": {},
   "outputs": [
    {
     "data": {
      "text/html": [
       "<div>\n",
       "<style scoped>\n",
       "    .dataframe tbody tr th:only-of-type {\n",
       "        vertical-align: middle;\n",
       "    }\n",
       "\n",
       "    .dataframe tbody tr th {\n",
       "        vertical-align: top;\n",
       "    }\n",
       "\n",
       "    .dataframe thead th {\n",
       "        text-align: right;\n",
       "    }\n",
       "</style>\n",
       "<table border=\"1\" class=\"dataframe\">\n",
       "  <thead>\n",
       "    <tr style=\"text-align: right;\">\n",
       "      <th></th>\n",
       "      <th>appid</th>\n",
       "      <th>positive</th>\n",
       "      <th>negative</th>\n",
       "      <th>userscore</th>\n",
       "      <th>owners</th>\n",
       "      <th>average_forever</th>\n",
       "      <th>average_2weeks</th>\n",
       "      <th>median_forever</th>\n",
       "      <th>median_2weeks</th>\n",
       "      <th>price</th>\n",
       "      <th>...</th>\n",
       "      <th>Indie</th>\n",
       "      <th>Free To Play</th>\n",
       "      <th>RPG</th>\n",
       "      <th>Strategy</th>\n",
       "      <th>Sports</th>\n",
       "      <th>Simulation</th>\n",
       "      <th>Racing</th>\n",
       "      <th>Massivley Multiplayer</th>\n",
       "      <th>Act_Adv</th>\n",
       "      <th>review</th>\n",
       "    </tr>\n",
       "  </thead>\n",
       "  <tbody>\n",
       "    <tr>\n",
       "      <th>count</th>\n",
       "      <td>4.130800e+04</td>\n",
       "      <td>4.130800e+04</td>\n",
       "      <td>41308.000000</td>\n",
       "      <td>41308.000000</td>\n",
       "      <td>4.130800e+04</td>\n",
       "      <td>41308.000000</td>\n",
       "      <td>41308.000000</td>\n",
       "      <td>41308.000000</td>\n",
       "      <td>41308.000000</td>\n",
       "      <td>41308.000000</td>\n",
       "      <td>...</td>\n",
       "      <td>41308.000000</td>\n",
       "      <td>41308.0</td>\n",
       "      <td>41308.000000</td>\n",
       "      <td>41308.000000</td>\n",
       "      <td>41308.000000</td>\n",
       "      <td>41308.000000</td>\n",
       "      <td>41308.000000</td>\n",
       "      <td>41308.0</td>\n",
       "      <td>41308.000000</td>\n",
       "      <td>41308.000000</td>\n",
       "    </tr>\n",
       "    <tr>\n",
       "      <th>mean</th>\n",
       "      <td>8.096821e+05</td>\n",
       "      <td>1.362381e+03</td>\n",
       "      <td>231.833107</td>\n",
       "      <td>0.088796</td>\n",
       "      <td>1.729997e+05</td>\n",
       "      <td>175.028033</td>\n",
       "      <td>6.868960</td>\n",
       "      <td>159.013532</td>\n",
       "      <td>7.043188</td>\n",
       "      <td>6.988034</td>\n",
       "      <td>...</td>\n",
       "      <td>0.738186</td>\n",
       "      <td>0.0</td>\n",
       "      <td>0.170814</td>\n",
       "      <td>0.193207</td>\n",
       "      <td>0.050668</td>\n",
       "      <td>0.195120</td>\n",
       "      <td>0.036748</td>\n",
       "      <td>0.0</td>\n",
       "      <td>0.638254</td>\n",
       "      <td>68.059625</td>\n",
       "    </tr>\n",
       "    <tr>\n",
       "      <th>std</th>\n",
       "      <td>3.598324e+05</td>\n",
       "      <td>3.110861e+04</td>\n",
       "      <td>6040.278945</td>\n",
       "      <td>2.659110</td>\n",
       "      <td>1.588070e+06</td>\n",
       "      <td>2403.589123</td>\n",
       "      <td>107.629267</td>\n",
       "      <td>2551.579873</td>\n",
       "      <td>110.290004</td>\n",
       "      <td>10.467973</td>\n",
       "      <td>...</td>\n",
       "      <td>0.439627</td>\n",
       "      <td>0.0</td>\n",
       "      <td>0.376351</td>\n",
       "      <td>0.394819</td>\n",
       "      <td>0.219322</td>\n",
       "      <td>0.396298</td>\n",
       "      <td>0.188146</td>\n",
       "      <td>0.0</td>\n",
       "      <td>0.480512</td>\n",
       "      <td>27.823349</td>\n",
       "    </tr>\n",
       "    <tr>\n",
       "      <th>min</th>\n",
       "      <td>3.000000e+02</td>\n",
       "      <td>0.000000e+00</td>\n",
       "      <td>0.000000</td>\n",
       "      <td>0.000000</td>\n",
       "      <td>2.000000e+04</td>\n",
       "      <td>0.000000</td>\n",
       "      <td>0.000000</td>\n",
       "      <td>0.000000</td>\n",
       "      <td>0.000000</td>\n",
       "      <td>0.000000</td>\n",
       "      <td>...</td>\n",
       "      <td>0.000000</td>\n",
       "      <td>0.0</td>\n",
       "      <td>0.000000</td>\n",
       "      <td>0.000000</td>\n",
       "      <td>0.000000</td>\n",
       "      <td>0.000000</td>\n",
       "      <td>0.000000</td>\n",
       "      <td>0.0</td>\n",
       "      <td>0.000000</td>\n",
       "      <td>0.000000</td>\n",
       "    </tr>\n",
       "    <tr>\n",
       "      <th>25%</th>\n",
       "      <td>5.175075e+05</td>\n",
       "      <td>5.000000e+00</td>\n",
       "      <td>1.000000</td>\n",
       "      <td>0.000000</td>\n",
       "      <td>2.000000e+04</td>\n",
       "      <td>0.000000</td>\n",
       "      <td>0.000000</td>\n",
       "      <td>0.000000</td>\n",
       "      <td>0.000000</td>\n",
       "      <td>0.990000</td>\n",
       "      <td>...</td>\n",
       "      <td>0.000000</td>\n",
       "      <td>0.0</td>\n",
       "      <td>0.000000</td>\n",
       "      <td>0.000000</td>\n",
       "      <td>0.000000</td>\n",
       "      <td>0.000000</td>\n",
       "      <td>0.000000</td>\n",
       "      <td>0.0</td>\n",
       "      <td>0.000000</td>\n",
       "      <td>54.000000</td>\n",
       "    </tr>\n",
       "    <tr>\n",
       "      <th>50%</th>\n",
       "      <td>8.047550e+05</td>\n",
       "      <td>2.100000e+01</td>\n",
       "      <td>7.000000</td>\n",
       "      <td>0.000000</td>\n",
       "      <td>2.000000e+04</td>\n",
       "      <td>0.000000</td>\n",
       "      <td>0.000000</td>\n",
       "      <td>0.000000</td>\n",
       "      <td>0.000000</td>\n",
       "      <td>4.900000</td>\n",
       "      <td>...</td>\n",
       "      <td>1.000000</td>\n",
       "      <td>0.0</td>\n",
       "      <td>0.000000</td>\n",
       "      <td>0.000000</td>\n",
       "      <td>0.000000</td>\n",
       "      <td>0.000000</td>\n",
       "      <td>0.000000</td>\n",
       "      <td>0.0</td>\n",
       "      <td>1.000000</td>\n",
       "      <td>75.000000</td>\n",
       "    </tr>\n",
       "    <tr>\n",
       "      <th>75%</th>\n",
       "      <td>1.101762e+06</td>\n",
       "      <td>1.210000e+02</td>\n",
       "      <td>38.000000</td>\n",
       "      <td>0.000000</td>\n",
       "      <td>5.000000e+04</td>\n",
       "      <td>2.000000</td>\n",
       "      <td>0.000000</td>\n",
       "      <td>2.000000</td>\n",
       "      <td>0.000000</td>\n",
       "      <td>9.900000</td>\n",
       "      <td>...</td>\n",
       "      <td>1.000000</td>\n",
       "      <td>0.0</td>\n",
       "      <td>0.000000</td>\n",
       "      <td>0.000000</td>\n",
       "      <td>0.000000</td>\n",
       "      <td>0.000000</td>\n",
       "      <td>0.000000</td>\n",
       "      <td>0.0</td>\n",
       "      <td>1.000000</td>\n",
       "      <td>89.000000</td>\n",
       "    </tr>\n",
       "    <tr>\n",
       "      <th>max</th>\n",
       "      <td>1.769630e+06</td>\n",
       "      <td>5.540107e+06</td>\n",
       "      <td>875035.000000</td>\n",
       "      <td>100.000000</td>\n",
       "      <td>2.000000e+08</td>\n",
       "      <td>245061.000000</td>\n",
       "      <td>8870.000000</td>\n",
       "      <td>245061.000000</td>\n",
       "      <td>8870.000000</td>\n",
       "      <td>999.900000</td>\n",
       "      <td>...</td>\n",
       "      <td>1.000000</td>\n",
       "      <td>0.0</td>\n",
       "      <td>1.000000</td>\n",
       "      <td>1.000000</td>\n",
       "      <td>1.000000</td>\n",
       "      <td>1.000000</td>\n",
       "      <td>1.000000</td>\n",
       "      <td>0.0</td>\n",
       "      <td>1.000000</td>\n",
       "      <td>100.000000</td>\n",
       "    </tr>\n",
       "  </tbody>\n",
       "</table>\n",
       "<p>8 rows × 33 columns</p>\n",
       "</div>"
      ],
      "text/plain": [
       "              appid      positive       negative     userscore        owners  \\\n",
       "count  4.130800e+04  4.130800e+04   41308.000000  41308.000000  4.130800e+04   \n",
       "mean   8.096821e+05  1.362381e+03     231.833107      0.088796  1.729997e+05   \n",
       "std    3.598324e+05  3.110861e+04    6040.278945      2.659110  1.588070e+06   \n",
       "min    3.000000e+02  0.000000e+00       0.000000      0.000000  2.000000e+04   \n",
       "25%    5.175075e+05  5.000000e+00       1.000000      0.000000  2.000000e+04   \n",
       "50%    8.047550e+05  2.100000e+01       7.000000      0.000000  2.000000e+04   \n",
       "75%    1.101762e+06  1.210000e+02      38.000000      0.000000  5.000000e+04   \n",
       "max    1.769630e+06  5.540107e+06  875035.000000    100.000000  2.000000e+08   \n",
       "\n",
       "       average_forever  average_2weeks  median_forever  median_2weeks  \\\n",
       "count     41308.000000    41308.000000    41308.000000   41308.000000   \n",
       "mean        175.028033        6.868960      159.013532       7.043188   \n",
       "std        2403.589123      107.629267     2551.579873     110.290004   \n",
       "min           0.000000        0.000000        0.000000       0.000000   \n",
       "25%           0.000000        0.000000        0.000000       0.000000   \n",
       "50%           0.000000        0.000000        0.000000       0.000000   \n",
       "75%           2.000000        0.000000        2.000000       0.000000   \n",
       "max      245061.000000     8870.000000   245061.000000    8870.000000   \n",
       "\n",
       "              price  ...         Indie  Free To Play           RPG  \\\n",
       "count  41308.000000  ...  41308.000000       41308.0  41308.000000   \n",
       "mean       6.988034  ...      0.738186           0.0      0.170814   \n",
       "std       10.467973  ...      0.439627           0.0      0.376351   \n",
       "min        0.000000  ...      0.000000           0.0      0.000000   \n",
       "25%        0.990000  ...      0.000000           0.0      0.000000   \n",
       "50%        4.900000  ...      1.000000           0.0      0.000000   \n",
       "75%        9.900000  ...      1.000000           0.0      0.000000   \n",
       "max      999.900000  ...      1.000000           0.0      1.000000   \n",
       "\n",
       "           Strategy        Sports    Simulation        Racing  \\\n",
       "count  41308.000000  41308.000000  41308.000000  41308.000000   \n",
       "mean       0.193207      0.050668      0.195120      0.036748   \n",
       "std        0.394819      0.219322      0.396298      0.188146   \n",
       "min        0.000000      0.000000      0.000000      0.000000   \n",
       "25%        0.000000      0.000000      0.000000      0.000000   \n",
       "50%        0.000000      0.000000      0.000000      0.000000   \n",
       "75%        0.000000      0.000000      0.000000      0.000000   \n",
       "max        1.000000      1.000000      1.000000      1.000000   \n",
       "\n",
       "       Massivley Multiplayer       Act_Adv        review  \n",
       "count                41308.0  41308.000000  41308.000000  \n",
       "mean                     0.0      0.638254     68.059625  \n",
       "std                      0.0      0.480512     27.823349  \n",
       "min                      0.0      0.000000      0.000000  \n",
       "25%                      0.0      0.000000     54.000000  \n",
       "50%                      0.0      1.000000     75.000000  \n",
       "75%                      0.0      1.000000     89.000000  \n",
       "max                      0.0      1.000000    100.000000  \n",
       "\n",
       "[8 rows x 33 columns]"
      ]
     },
     "execution_count": 14,
     "metadata": {},
     "output_type": "execute_result"
    }
   ],
   "source": [
    "data.describe()"
   ]
  },
  {
   "cell_type": "markdown",
   "id": "24f3079f",
   "metadata": {},
   "source": [
    "### I split the data into 2 DataFrames named x and y\n",
    "#### x contains the Predictor Variables and y contains the Response Variables"
   ]
  },
  {
   "cell_type": "code",
   "execution_count": 3,
   "id": "77def741",
   "metadata": {},
   "outputs": [],
   "source": [
    "y = pd.DataFrame(data[\"owner_cat\"])\n",
    "x = pd.DataFrame(data[['positive', 'negative', 'initialprice', 'total_lang',\n",
    "                       '18+', 'Indie', 'Free To Play', 'RPG',\n",
    "                       'Strategy', 'Sports', 'Simulation', 'Racing',\n",
    "                       'Massivley Multiplayer', 'Act_Adv']])"
   ]
  },
  {
   "cell_type": "code",
   "execution_count": 4,
   "id": "47993b96",
   "metadata": {},
   "outputs": [
    {
     "name": "stdout",
     "output_type": "stream",
     "text": [
      "Train Set : (30981, 1) (30981, 14)\n",
      "Test Set  : (10327, 1) (10327, 14)\n"
     ]
    }
   ],
   "source": [
    "# Further split dataset into train and test dataframes for x and y.\n",
    "x_train, x_test, y_train, y_test = train_test_split(x, y, test_size = 0.25)\n",
    "print(\"Train Set :\", y_train.shape, x_train.shape)\n",
    "print(\"Test Set  :\", y_test.shape, x_test.shape)"
   ]
  },
  {
   "cell_type": "markdown",
   "id": "6ff5ff90",
   "metadata": {},
   "source": [
    "### Create Decision Tree Classifier"
   ]
  },
  {
   "cell_type": "code",
   "execution_count": 5,
   "id": "e2d78ecf",
   "metadata": {
    "scrolled": true
   },
   "outputs": [
    {
     "name": "stdout",
     "output_type": "stream",
     "text": [
      "Goodness of Fit of Model \tTrain Dataset\n",
      "Classification Accuracy \t: 0.8054291339853459\n",
      "\n",
      "Goodness of Fit of Model \tTest Dataset\n",
      "Classification Accuracy \t: 0.7463929505180594\n",
      "\n"
     ]
    }
   ],
   "source": [
    "dectree = DecisionTreeClassifier(max_depth = 10)  # create the decision tree object\n",
    "dectree.fit(x_train, y_train)                    # train the decision tree model\n",
    "\n",
    "# Predict Response corresponding to Predictors\n",
    "y_train_pred = dectree.predict(x_train)\n",
    "y_test_pred = dectree.predict(x_test)\n",
    "\n",
    "# Check the Goodness of Fit (on Train Data)\n",
    "print(\"Goodness of Fit of Model \\tTrain Dataset\")\n",
    "print(\"Classification Accuracy \\t:\", dectree.score(x_train, y_train))\n",
    "print()\n",
    "\n",
    "# Check the Goodness of Fit (on Test Data)\n",
    "print(\"Goodness of Fit of Model \\tTest Dataset\")\n",
    "print(\"Classification Accuracy \\t:\", dectree.score(x_test, y_test))\n",
    "print()\n",
    "\n",
    "\n"
   ]
  },
  {
   "cell_type": "markdown",
   "id": "e3f90047",
   "metadata": {},
   "source": [
    "### Plot the Confusion Matrix for Train and Test"
   ]
  },
  {
   "cell_type": "code",
   "execution_count": 11,
   "id": "6116f0fc",
   "metadata": {},
   "outputs": [
    {
     "name": "stdout",
     "output_type": "stream",
     "text": [
      "Train data set: \n"
     ]
    },
    {
     "data": {
      "text/plain": [
       "<AxesSubplot:>"
      ]
     },
     "execution_count": 11,
     "metadata": {},
     "output_type": "execute_result"
    },
    {
     "data": {
      "image/png": "[encoded data removed]",
      "text/plain": [
       "<Figure size 1008x432 with 2 Axes>"
      ]
     },
     "metadata": {},
     "output_type": "display_data"
    }
   ],
   "source": [
    "f = plt.figure(figsize=(14, 6))\n",
    "print(\"Train data set: \")\n",
    "sb.heatmap(confusion_matrix(y_train, y_train_pred),\n",
    "           annot = True, fmt=\".0f\", annot_kws={\"size\": 14})"
   ]
  },
  {
   "cell_type": "code",
   "execution_count": 15,
   "id": "bee82efb",
   "metadata": {},
   "outputs": [
    {
     "name": "stdout",
     "output_type": "stream",
     "text": [
      "Test data set: \n"
     ]
    },
    {
     "data": {
      "text/plain": [
       "<AxesSubplot:>"
      ]
     },
     "execution_count": 15,
     "metadata": {},
     "output_type": "execute_result"
    },
    {
     "data": {
      "image/png": "[encoded data removed]",
      "text/plain": [
       "<Figure size 1008x432 with 2 Axes>"
      ]
     },
     "metadata": {},
     "output_type": "display_data"
    }
   ],
   "source": [
    "f = plt.figure(figsize=(14, 6))\n",
    "print(\"Test data set: \")\n",
    "sb.heatmap(confusion_matrix(y_test, y_test_pred), \n",
    "           annot = True, fmt=\".0f\", annot_kws={\"size\": 14})"
   ]
  },
  {
   "cell_type": "markdown",
   "id": "9d7f0293",
   "metadata": {},
   "source": [
    "### Plotting Decision Tree - Predicting 12 different classes of different owner sizes, "
   ]
  },
  {
   "cell_type": "code",
   "execution_count": null,
   "id": "7c875a62",
   "metadata": {},
   "outputs": [],
   "source": [
    "f = plt.figure(figsize=(12,12))\n",
    "plot_tree(dectree, filled=True, rounded=True, \n",
    "          feature_names=x_train.columns, \n",
    "          class_names=[\"0\",\"1\",\"2\",\"3\", \"4\",\"5\",\"6\",\"7\",\"8\",\"9\",\"10\",\"11\",\"12\"])"
   ]
  },
  {
   "cell_type": "code",
   "execution_count": null,
   "id": "6ee824d2",
   "metadata": {},
   "outputs": [],
   "source": []
  },
  {
   "cell_type": "code",
   "execution_count": null,
   "id": "dcd26b19",
   "metadata": {},
   "outputs": [],
   "source": []
  },
  {
   "cell_type": "code",
   "execution_count": null,
   "id": "4786a4a3",
   "metadata": {},
   "outputs": [],
   "source": []
  },
  {
   "cell_type": "code",
   "execution_count": null,
   "id": "7ce637c8",
   "metadata": {},
   "outputs": [],
   "source": []
  },
  {
   "cell_type": "code",
   "execution_count": null,
   "id": "e7ce0fcd",
   "metadata": {},
   "outputs": [],
   "source": []
  },
  {
   "cell_type": "code",
   "execution_count": null,
   "id": "0cd15734",
   "metadata": {},
   "outputs": [],
   "source": []
  }
 ],
 "metadata": {
  "kernelspec": {
   "display_name": "Python 3 (ipykernel)",
   "language": "python",
   "name": "python3"
  },
  "language_info": {
   "codemirror_mode": {
    "name": "ipython",
    "version": 3
   },
   "file_extension": ".py",
   "mimetype": "text/x-python",
   "name": "python",
   "nbconvert_exporter": "python",
   "pygments_lexer": "ipython3",
   "version": "3.9.7"
  }
 },
 "nbformat": 4,
 "nbformat_minor": 5
}
